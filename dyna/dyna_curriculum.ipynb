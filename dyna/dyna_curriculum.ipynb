{
 "cells": [
  {
   "cell_type": "code",
   "execution_count": 2,
   "metadata": {},
   "outputs": [
    {
     "name": "stdout",
     "output_type": "stream",
     "text": [
      "The autoreload extension is already loaded. To reload it, use:\n",
      "  %reload_ext autoreload\n",
      "pygame 2.6.1 (SDL 2.28.4, Python 3.11.4)\n",
      "Hello from the pygame community. https://www.pygame.org/contribute.html\n"
     ]
    }
   ],
   "source": [
    "%load_ext autoreload\n",
    "%autoreload 2\n",
    "import os  # noqa\n",
    "import sys  # noqa\n",
    "import numpy as np  # noqa\n",
    "import copy  # noqa\n",
    "import pygame  # noqa\n",
    "import gymnasium as gym  # noqa\n",
    "from gymnasium import spaces  # noqa\n",
    "from gymnasium.envs.registration import register  # noqa\n",
    "import matplotlib.pyplot as plt  # noqa\n",
    "from pprint import pprint  # noqa\n",
    "\n",
    "module_path = os.path.abspath(os.path.join(\"..\"))\n",
    "sys.path.insert(0, module_path)\n",
    "from dyna import TabularDynaQ  # noqa\n",
    "from q_learning import QLearning  # noqa\n",
    "from env_helper import (\n",
    "    check_banana_on_floor,\n",
    "    check_reach_banana_with_chair,\n",
    "    check_climb_to_reach_banana,\n",
    "    check_climb_down,\n",
    "    check_full_model,\n",
    ")\n",
    "\n",
    "from environment import (\n",
    "    MonkeyBananaEnv,\n",
    "    BananaOnFloorEnv,\n",
    "    ReachBananaWithChairEnv,\n",
    "    ClimbToReachBananaEnv,\n",
    "    ClimbDownEnv,\n",
    ")\n"
   ]
  },
  {
   "cell_type": "code",
   "execution_count": null,
   "metadata": {},
   "outputs": [],
   "source": [
    "# If we tweak the planning in dyna to be like prioritised sweeping, we can\n",
    "# make it much more efficient"
   ]
  },
  {
   "cell_type": "code",
   "execution_count": 3,
   "metadata": {},
   "outputs": [
    {
     "name": "stdout",
     "output_type": "stream",
     "text": [
      "{'Missing states': 0,\n",
      " 'Model accuracy': 1.0,\n",
      " 'Total states': 125,\n",
      " 'Unique states in model': 125}\n"
     ]
    }
   ],
   "source": [
    "env = BananaOnFloorEnv(size=5)\n",
    "agent = TabularDynaQ(env)\n",
    "agent.train(100)\n",
    "\n",
    "info = check_banana_on_floor(env, agent)\n",
    "pprint(info)\n"
   ]
  },
  {
   "cell_type": "code",
   "execution_count": 4,
   "metadata": {},
   "outputs": [
    {
     "name": "stdout",
     "output_type": "stream",
     "text": [
      "{'Errors': [],\n",
      " 'Missing states': 0,\n",
      " 'Model accuracy': 1.0,\n",
      " 'Total states': 125,\n",
      " 'Unique states in model': 125}\n"
     ]
    }
   ],
   "source": [
    "env = ReachBananaWithChairEnv(size=5)\n",
    "agent = TabularDynaQ(env)\n",
    "agent.train(100)\n",
    "\n",
    "info = check_reach_banana_with_chair(env, agent)\n",
    "pprint(info)\n"
   ]
  },
  {
   "cell_type": "code",
   "execution_count": 5,
   "metadata": {},
   "outputs": [
    {
     "name": "stdout",
     "output_type": "stream",
     "text": [
      "{'Errors': [],\n",
      " 'Missing states': 0,\n",
      " 'Model accuracy': 1.0,\n",
      " 'Total states': 10,\n",
      " 'Unique states in model': 10}\n"
     ]
    }
   ],
   "source": [
    "env = ClimbToReachBananaEnv(size=5)\n",
    "agent = TabularDynaQ(env)\n",
    "agent.train(100)\n",
    "\n",
    "info = check_climb_to_reach_banana(env, agent)\n",
    "pprint(info)\n"
   ]
  },
  {
   "cell_type": "code",
   "execution_count": 6,
   "metadata": {},
   "outputs": [
    {
     "name": "stdout",
     "output_type": "stream",
     "text": [
      "{'Errors': [],\n",
      " 'Missing states': 0,\n",
      " 'Model accuracy': 1.0,\n",
      " 'Total states': 10,\n",
      " 'Unique states in model': 10}\n"
     ]
    }
   ],
   "source": [
    "env = ClimbDownEnv(size=5)\n",
    "agent = TabularDynaQ(env)\n",
    "agent.train(100)\n",
    "\n",
    "info = check_climb_down(env, agent)\n",
    "pprint(info)\n"
   ]
  },
  {
   "cell_type": "code",
   "execution_count": 7,
   "metadata": {},
   "outputs": [
    {
     "name": "stdout",
     "output_type": "stream",
     "text": [
      "Banana on floor\n",
      "{'Missing states': 0,\n",
      " 'Model accuracy': 1.0,\n",
      " 'Total states': 125,\n",
      " 'Unique states in model': 125}\n",
      "Reach banana with chair\n",
      "{'Errors': [],\n",
      " 'Missing states': 0,\n",
      " 'Model accuracy': 1.0,\n",
      " 'Total states': 125,\n",
      " 'Unique states in model': 125}\n",
      "Climb to reach banana\n",
      "{'Errors': [],\n",
      " 'Missing states': 0,\n",
      " 'Model accuracy': 1.0,\n",
      " 'Total states': 10,\n",
      " 'Unique states in model': 130}\n",
      "Climb down\n",
      "{'Errors': [],\n",
      " 'Missing states': 0,\n",
      " 'Model accuracy': 1.0,\n",
      " 'Total states': 10,\n",
      " 'Unique states in model': 130}\n"
     ]
    }
   ],
   "source": [
    "# Curriculum training:\n",
    "print(\"Banana on floor\")\n",
    "env = BananaOnFloorEnv(size=5)\n",
    "agent = TabularDynaQ(env)\n",
    "agent.train(100)\n",
    "agent.clear_rewards_in_model()\n",
    "\n",
    "pprint(check_banana_on_floor(env, agent))\n",
    "\n",
    "print(\"Reach banana with chair\")\n",
    "env = ReachBananaWithChairEnv(size=5)\n",
    "agent.switch_env(env)\n",
    "agent.train(100)\n",
    "agent.clear_rewards_in_model()\n",
    "\n",
    "pprint(check_reach_banana_with_chair(env, agent))\n",
    "\n",
    "print(\"Climb to reach banana\")\n",
    "env = ClimbToReachBananaEnv(size=5)\n",
    "agent.switch_env(env)\n",
    "agent.train(100)\n",
    "agent.clear_rewards_in_model()\n",
    "\n",
    "pprint(check_climb_to_reach_banana(env, agent))\n",
    "\n",
    "print(\"Climb down\")\n",
    "env = ClimbDownEnv(size=5)\n",
    "agent.switch_env(env)\n",
    "agent.train(100)\n",
    "agent.clear_rewards_in_model()\n",
    "\n",
    "pprint(check_climb_down(env, agent))\n"
   ]
  },
  {
   "cell_type": "code",
   "execution_count": 8,
   "metadata": {},
   "outputs": [
    {
     "data": {
      "text/plain": [
       "{'Total states': 150,\n",
       " 'Unique states in model': 130,\n",
       " 'Missing states': {121122,\n",
       "  121132,\n",
       "  121142,\n",
       "  121152,\n",
       "  222112,\n",
       "  222132,\n",
       "  222142,\n",
       "  222152,\n",
       "  323112,\n",
       "  323122,\n",
       "  323142,\n",
       "  323152,\n",
       "  424112,\n",
       "  424122,\n",
       "  424132,\n",
       "  424152,\n",
       "  525112,\n",
       "  525122,\n",
       "  525132,\n",
       "  525142},\n",
       " 'Model accuracy': 1.0,\n",
       " 'Errors': []}"
      ]
     },
     "execution_count": 8,
     "metadata": {},
     "output_type": "execute_result"
    }
   ],
   "source": [
    "check_full_model(env, agent)\n",
    "\n",
    "# Ok, the missing 20 states might be a problem\n",
    "# Or will it? During the final MB training, I feel like we can\n",
    "# learn those model on the go as well, no?"
   ]
  },
  {
   "cell_type": "markdown",
   "metadata": {},
   "source": [
    "### Training with model\n"
   ]
  },
  {
   "cell_type": "code",
   "execution_count": 9,
   "metadata": {},
   "outputs": [],
   "source": [
    "def train_final_with_model(agent, iterations=100):\n",
    "    # Duplicate agent\n",
    "    agent_copy = copy.deepcopy(agent)\n",
    "    env = MonkeyBananaEnv(size=5)\n",
    "    agent_copy.switch_env(env)\n",
    "    agent_copy.n_planning_steps = 200\n",
    "    steps_per_episode = agent_copy.train_for_final()\n",
    "    return agent_copy"
   ]
  },
  {
   "cell_type": "code",
   "execution_count": 10,
   "metadata": {},
   "outputs": [
    {
     "name": "stdout",
     "output_type": "stream",
     "text": [
      "0\n",
      "1\n",
      "2\n",
      "3\n",
      "4\n",
      "5\n",
      "6\n",
      "7\n",
      "8\n",
      "9\n",
      "10\n",
      "11\n",
      "12\n",
      "13\n",
      "14\n",
      "15\n",
      "16\n",
      "17\n",
      "18\n",
      "19\n",
      "20\n",
      "21\n",
      "22\n",
      "23\n",
      "24\n",
      "25\n",
      "26\n",
      "27\n",
      "28\n",
      "29\n",
      "30\n",
      "31\n",
      "32\n",
      "33\n",
      "34\n",
      "35\n",
      "36\n",
      "37\n",
      "38\n",
      "39\n",
      "40\n",
      "41\n",
      "42\n",
      "43\n",
      "44\n",
      "45\n",
      "46\n",
      "47\n",
      "48\n",
      "49\n",
      "50\n",
      "51\n",
      "52\n",
      "53\n",
      "54\n",
      "55\n",
      "56\n",
      "57\n",
      "58\n",
      "59\n",
      "60\n",
      "61\n",
      "62\n",
      "63\n",
      "64\n",
      "65\n",
      "66\n",
      "67\n",
      "68\n",
      "69\n",
      "70\n",
      "71\n",
      "72\n",
      "73\n",
      "74\n",
      "75\n",
      "76\n",
      "77\n",
      "78\n",
      "79\n",
      "80\n",
      "81\n",
      "82\n",
      "83\n",
      "84\n",
      "85\n",
      "86\n",
      "87\n",
      "88\n",
      "89\n",
      "90\n",
      "91\n",
      "92\n",
      "93\n",
      "94\n",
      "95\n",
      "96\n",
      "97\n",
      "98\n",
      "99\n",
      "100\n",
      "101\n",
      "102\n",
      "103\n",
      "104\n",
      "105\n",
      "106\n",
      "107\n",
      "108\n",
      "109\n",
      "110\n",
      "111\n",
      "112\n",
      "113\n",
      "114\n",
      "115\n",
      "116\n",
      "117\n",
      "118\n",
      "119\n",
      "120\n",
      "121\n",
      "122\n",
      "123\n",
      "124\n"
     ]
    }
   ],
   "source": [
    "final_agent = train_final_with_model(agent)"
   ]
  },
  {
   "cell_type": "markdown",
   "metadata": {},
   "source": [
    "### Training from sratch\n"
   ]
  },
  {
   "cell_type": "code",
   "execution_count": 16,
   "metadata": {},
   "outputs": [],
   "source": [
    "def train_final_without_model(iterations=100):\n",
    "    env = MonkeyBananaEnv(size=5)\n",
    "    agent = TabularDynaQ(env)\n",
    "    agent.train(iterations)\n",
    "    return agent\n",
    "\n",
    "\n",
    "final_agent_without_model = train_final_without_model()"
   ]
  },
  {
   "cell_type": "code",
   "execution_count": null,
   "metadata": {},
   "outputs": [],
   "source": [
    "test_final_agent(final_agent_without_model)"
   ]
  },
  {
   "cell_type": "code",
   "execution_count": 14,
   "metadata": {},
   "outputs": [],
   "source": [
    "import time  # noqa\n",
    "\n",
    "env = MonkeyBananaEnv(size=5, render_mode=\"human\")\n",
    "state, _ = env.reset()\n",
    "done = False\n",
    "while not done:\n",
    "    action = max(final_agent.Q[state], key=final_agent.Q[state].get)\n",
    "    next_state, reward, terminated, truncated, _ = env.step(action)\n",
    "    done = terminated or truncated\n",
    "    state = next_state"
   ]
  },
  {
   "cell_type": "code",
   "execution_count": 11,
   "metadata": {},
   "outputs": [],
   "source": [
    "# Test on many situations and get the accuracy\n",
    "def test_final_agent(agent):\n",
    "    env = MonkeyBananaEnv(size=5)\n",
    "    num_correct = 0\n",
    "    for _ in range(100):\n",
    "        state, _ = env.reset()\n",
    "        done = False\n",
    "        max_steps = 20\n",
    "        steps = 0\n",
    "        while not done and steps < max_steps:\n",
    "            action = max(agent.Q[state], key=agent.Q[state].get)\n",
    "            next_state, reward, terminated, truncated, _ = env.step(action)\n",
    "            done = terminated or truncated\n",
    "            state = next_state\n",
    "            steps += 1\n",
    "        if done:\n",
    "            num_correct += 1\n",
    "\n",
    "    return num_correct / 100"
   ]
  },
  {
   "cell_type": "code",
   "execution_count": 12,
   "metadata": {},
   "outputs": [
    {
     "data": {
      "text/plain": [
       "0.97"
      ]
     },
     "execution_count": 12,
     "metadata": {},
     "output_type": "execute_result"
    }
   ],
   "source": [
    "test_final_agent(final_agent)"
   ]
  }
 ],
 "metadata": {
  "kernelspec": {
   "display_name": "venv",
   "language": "python",
   "name": "python3"
  },
  "language_info": {
   "codemirror_mode": {
    "name": "ipython",
    "version": 3
   },
   "file_extension": ".py",
   "mimetype": "text/x-python",
   "name": "python",
   "nbconvert_exporter": "python",
   "pygments_lexer": "ipython3",
   "version": "3.11.4"
  }
 },
 "nbformat": 4,
 "nbformat_minor": 2
}
